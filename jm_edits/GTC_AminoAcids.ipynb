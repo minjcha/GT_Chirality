{
 "cells": [
  {
   "cell_type": "code",
   "metadata": {
    "ExecuteTime": {
     "end_time": "2024-04-19T17:25:17.354739Z",
     "start_time": "2024-04-19T17:25:16.560448Z"
    }
   },
   "source": [
    "import numpy as np\n",
    "import pandas as pd\n",
    "import matplotlib.pyplot as plt\n",
    "from matplotlib import colors, cm\n",
    "import os\n",
    "import re\n",
    "import networkx as nx\n",
    "from scipy.spatial.distance import euclidean\n",
    "import math\n",
    "from Proteins_AA import nodes, edges, ollivier_ricci_node, ollivier_ricci_edge, node_connect_path, path_pd_all_w, path_sum_mean, edge_node_vec_torsion, mirror_point, mirror_check_chiral\n",
    "import igraph as ig\n",
    "from mpl_toolkits.mplot3d.art3d import Line3DCollection\n",
    "import copy\n",
    "import warnings\n",
    "warnings.filterwarnings(\"ignore\")"
   ],
   "outputs": [
    {
     "data": {
      "text/html": [
       "\n",
       "\t\t\t<script type=\"text/javascript\">\n",
       "\t\t\t<!--\n",
       "\t\t\t\t\n",
       "\t\t\t{\n",
       "\t\t\t\tvar element = document.getElementById('NetworKit_script');\n",
       "\t\t\t\tif (element) {\n",
       "\t\t\t\t\telement.parentNode.removeChild(element);\n",
       "\t\t\t\t}\n",
       "\t\t\t\telement = document.createElement('script');\n",
       "\t\t\t\telement.type = 'text/javascript';\n",
       "\t\t\t\telement.innerHTML = 'function NetworKit_pageEmbed(id) { var i, j; var elements; elements = document.getElementById(id).getElementsByClassName(\"Plot\"); for (i=0; i<elements.length; i++) { elements[i].id = id + \"_Plot_\" + i; var data = elements[i].getAttribute(\"data-image\").split(\"|\"); elements[i].removeAttribute(\"data-image\"); var content = \"<div class=\\\\\"Image\\\\\" id=\\\\\"\" + elements[i].id + \"_Image\\\\\" />\"; elements[i].innerHTML = content; elements[i].setAttribute(\"data-image-index\", 0); elements[i].setAttribute(\"data-image-length\", data.length); for (j=0; j<data.length; j++) { elements[i].setAttribute(\"data-image-\" + j, data[j]); } NetworKit_plotUpdate(elements[i]); elements[i].onclick = function (e) { NetworKit_overlayShow((e.target) ? e.target : e.srcElement); } } elements = document.getElementById(id).getElementsByClassName(\"HeatCell\"); for (i=0; i<elements.length; i++) { var data = parseFloat(elements[i].getAttribute(\"data-heat\")); var color = \"#00FF00\"; if (data <= 1 && data > 0) { color = \"hsla(0, 100%, 75%, \" + (data) + \")\"; } else if (data <= 0 && data >= -1) { color = \"hsla(240, 100%, 75%, \" + (-data) + \")\"; } elements[i].style.backgroundColor = color; } elements = document.getElementById(id).getElementsByClassName(\"Details\"); for (i=0; i<elements.length; i++) { elements[i].setAttribute(\"data-title\", \"-\"); NetworKit_toggleDetails(elements[i]); elements[i].onclick = function (e) { NetworKit_toggleDetails((e.target) ? e.target : e.srcElement); } } elements = document.getElementById(id).getElementsByClassName(\"MathValue\"); for (i=elements.length-1; i>=0; i--) { value = elements[i].innerHTML.trim(); if (value === \"nan\") { elements[i].parentNode.innerHTML = \"\" } } elements = document.getElementById(id).getElementsByClassName(\"SubCategory\"); for (i=elements.length-1; i>=0; i--) { value = elements[i].innerHTML.trim(); if (value === \"\") { elements[i].parentNode.removeChild(elements[i]) } } elements = document.getElementById(id).getElementsByClassName(\"Category\"); for (i=elements.length-1; i>=0; i--) { value = elements[i].innerHTML.trim(); if (value === \"\") { elements[i].parentNode.removeChild(elements[i]) } } var isFirefox = false; try { isFirefox = typeof InstallTrigger !== \"undefined\"; } catch (e) {} if (!isFirefox) { alert(\"Currently the function\\'s output is only fully supported by Firefox.\"); } } function NetworKit_plotUpdate(source) { var index = source.getAttribute(\"data-image-index\"); var data = source.getAttribute(\"data-image-\" + index); var image = document.getElementById(source.id + \"_Image\"); image.style.backgroundImage = \"url(\" + data + \")\"; } function NetworKit_showElement(id, show) { var element = document.getElementById(id); element.style.display = (show) ? \"block\" : \"none\"; } function NetworKit_overlayShow(source) { NetworKit_overlayUpdate(source); NetworKit_showElement(\"NetworKit_Overlay\", true); } function NetworKit_overlayUpdate(source) { document.getElementById(\"NetworKit_Overlay_Title\").innerHTML = source.title; var index = source.getAttribute(\"data-image-index\"); var data = source.getAttribute(\"data-image-\" + index); var image = document.getElementById(\"NetworKit_Overlay_Image\"); image.setAttribute(\"data-id\", source.id); image.style.backgroundImage = \"url(\" + data + \")\"; var link = document.getElementById(\"NetworKit_Overlay_Toolbar_Bottom_Save\"); link.href = data; link.download = source.title + \".svg\"; } function NetworKit_overlayImageShift(delta) { var image = document.getElementById(\"NetworKit_Overlay_Image\"); var source = document.getElementById(image.getAttribute(\"data-id\")); var index = parseInt(source.getAttribute(\"data-image-index\")); var length = parseInt(source.getAttribute(\"data-image-length\")); var index = (index+delta) % length; if (index < 0) { index = length + index; } source.setAttribute(\"data-image-index\", index); NetworKit_overlayUpdate(source); } function NetworKit_toggleDetails(source) { var childs = source.children; var show = false; if (source.getAttribute(\"data-title\") == \"-\") { source.setAttribute(\"data-title\", \"+\"); show = false; } else { source.setAttribute(\"data-title\", \"-\"); show = true; } for (i=0; i<childs.length; i++) { if (show) { childs[i].style.display = \"block\"; } else { childs[i].style.display = \"none\"; } } }';\n",
       "\t\t\t\telement.setAttribute('id', 'NetworKit_script');\n",
       "\t\t\t\tdocument.head.appendChild(element);\n",
       "\t\t\t}\n",
       "\t\t\n",
       "\t\t\t\t\n",
       "\t\t\t{\n",
       "\t\t\t\tvar element = document.getElementById('NetworKit_style');\n",
       "\t\t\t\tif (element) {\n",
       "\t\t\t\t\telement.parentNode.removeChild(element);\n",
       "\t\t\t\t}\n",
       "\t\t\t\telement = document.createElement('style');\n",
       "\t\t\t\telement.type = 'text/css';\n",
       "\t\t\t\telement.innerHTML = '.NetworKit_Page { font-family: Arial, Helvetica, sans-serif; font-size: 14px; } .NetworKit_Page .Value:before { font-family: Arial, Helvetica, sans-serif; font-size: 1.05em; content: attr(data-title) \":\"; margin-left: -2.5em; padding-right: 0.5em; } .NetworKit_Page .Details .Value:before { display: block; } .NetworKit_Page .Value { font-family: monospace; white-space: pre; padding-left: 2.5em; white-space: -moz-pre-wrap !important; white-space: -pre-wrap; white-space: -o-pre-wrap; white-space: pre-wrap; word-wrap: break-word; tab-size: 4; -moz-tab-size: 4; } .NetworKit_Page .Category { clear: both; padding-left: 1em; margin-bottom: 1.5em; } .NetworKit_Page .Category:before { content: attr(data-title); font-size: 1.75em; display: block; margin-left: -0.8em; margin-bottom: 0.5em; } .NetworKit_Page .SubCategory { margin-bottom: 1.5em; padding-left: 1em; } .NetworKit_Page .SubCategory:before { font-size: 1.6em; display: block; margin-left: -0.8em; margin-bottom: 0.5em; } .NetworKit_Page .SubCategory[data-title]:before { content: attr(data-title); } .NetworKit_Page .Block { display: block; } .NetworKit_Page .Block:after { content: \".\"; visibility: hidden; display: block; height: 0; clear: both; } .NetworKit_Page .Block .Thumbnail_Overview, .NetworKit_Page .Block .Thumbnail_ScatterPlot { width: 260px; float: left; } .NetworKit_Page .Block .Thumbnail_Overview img, .NetworKit_Page .Block .Thumbnail_ScatterPlot img { width: 260px; } .NetworKit_Page .Block .Thumbnail_Overview:before, .NetworKit_Page .Block .Thumbnail_ScatterPlot:before { display: block; text-align: center; font-weight: bold; } .NetworKit_Page .Block .Thumbnail_Overview:before { content: attr(data-title); } .NetworKit_Page .HeatCell { font-family: \"Courier New\", Courier, monospace; cursor: pointer; } .NetworKit_Page .HeatCell, .NetworKit_Page .HeatCellName { display: inline; padding: 0.1em; margin-right: 2px; background-color: #FFFFFF } .NetworKit_Page .HeatCellName { margin-left: 0.25em; } .NetworKit_Page .HeatCell:before { content: attr(data-heat); display: inline-block; color: #000000; width: 4em; text-align: center; } .NetworKit_Page .Measure { clear: both; } .NetworKit_Page .Measure .Details { cursor: pointer; } .NetworKit_Page .Measure .Details:before { content: \"[\" attr(data-title) \"]\"; display: block; } .NetworKit_Page .Measure .Details .Value { border-left: 1px dotted black; margin-left: 0.4em; padding-left: 3.5em; pointer-events: none; } .NetworKit_Page .Measure .Details .Spacer:before { content: \".\"; opacity: 0.0; pointer-events: none; } .NetworKit_Page .Measure .Plot { width: 440px; height: 440px; cursor: pointer; float: left; margin-left: -0.9em; margin-right: 20px; } .NetworKit_Page .Measure .Plot .Image { background-repeat: no-repeat; background-position: center center; background-size: contain; height: 100%; pointer-events: none; } .NetworKit_Page .Measure .Stat { width: 500px; float: left; } .NetworKit_Page .Measure .Stat .Group { padding-left: 1.25em; margin-bottom: 0.75em; } .NetworKit_Page .Measure .Stat .Group .Title { font-size: 1.1em; display: block; margin-bottom: 0.3em; margin-left: -0.75em; border-right-style: dotted; border-right-width: 1px; border-bottom-style: dotted; border-bottom-width: 1px; background-color: #D0D0D0; padding-left: 0.2em; } .NetworKit_Page .Measure .Stat .Group .List { -webkit-column-count: 3; -moz-column-count: 3; column-count: 3; } .NetworKit_Page .Measure .Stat .Group .List .Entry { position: relative; line-height: 1.75em; } .NetworKit_Page .Measure .Stat .Group .List .Entry[data-tooltip]:before { position: absolute; left: 0; top: -40px; background-color: #808080; color: #ffffff; height: 30px; line-height: 30px; border-radius: 5px; padding: 0 15px; content: attr(data-tooltip); white-space: nowrap; display: none; } .NetworKit_Page .Measure .Stat .Group .List .Entry[data-tooltip]:after { position: absolute; left: 15px; top: -10px; border-top: 7px solid #808080; border-left: 7px solid transparent; border-right: 7px solid transparent; content: \"\"; display: none; } .NetworKit_Page .Measure .Stat .Group .List .Entry[data-tooltip]:hover:after, .NetworKit_Page .Measure .Stat .Group .List .Entry[data-tooltip]:hover:before { display: block; } .NetworKit_Page .Measure .Stat .Group .List .Entry .MathValue { font-family: \"Courier New\", Courier, monospace; } .NetworKit_Page .Measure:after { content: \".\"; visibility: hidden; display: block; height: 0; clear: both; } .NetworKit_Page .PartitionPie { clear: both; } .NetworKit_Page .PartitionPie img { width: 600px; } #NetworKit_Overlay { left: 0px; top: 0px; display: none; position: absolute; width: 100%; height: 100%; background-color: rgba(0,0,0,0.6); z-index: 1000; } #NetworKit_Overlay_Title { position: absolute; color: white; transform: rotate(-90deg); width: 32em; height: 32em; padding-right: 0.5em; padding-top: 0.5em; text-align: right; font-size: 40px; } #NetworKit_Overlay .button { background: white; cursor: pointer; } #NetworKit_Overlay .button:before { size: 13px; display: inline-block; text-align: center; margin-top: 0.5em; margin-bottom: 0.5em; width: 1.5em; height: 1.5em; } #NetworKit_Overlay .icon-close:before { content: \"X\"; } #NetworKit_Overlay .icon-previous:before { content: \"P\"; } #NetworKit_Overlay .icon-next:before { content: \"N\"; } #NetworKit_Overlay .icon-save:before { content: \"S\"; } #NetworKit_Overlay_Toolbar_Top, #NetworKit_Overlay_Toolbar_Bottom { position: absolute; width: 40px; right: 13px; text-align: right; z-index: 1100; } #NetworKit_Overlay_Toolbar_Top { top: 0.5em; } #NetworKit_Overlay_Toolbar_Bottom { Bottom: 0.5em; } #NetworKit_Overlay_ImageContainer { position: absolute; top: 5%; left: 5%; height: 90%; width: 90%; background-repeat: no-repeat; background-position: center center; background-size: contain; } #NetworKit_Overlay_Image { height: 100%; width: 100%; background-repeat: no-repeat; background-position: center center; background-size: contain; }';\n",
       "\t\t\t\telement.setAttribute('id', 'NetworKit_style');\n",
       "\t\t\t\tdocument.head.appendChild(element);\n",
       "\t\t\t}\n",
       "\t\t\n",
       "\t\t\t\t\n",
       "\t\t\t{\n",
       "\t\t\t\tvar element = document.getElementById('NetworKit_Overlay');\n",
       "\t\t\t\tif (element) {\n",
       "\t\t\t\t\telement.parentNode.removeChild(element);\n",
       "\t\t\t\t}\n",
       "\t\t\t\telement = document.createElement('div');\n",
       "\t\t\t\telement.innerHTML = '<div id=\"NetworKit_Overlay_Toolbar_Top\"><div class=\"button icon-close\" id=\"NetworKit_Overlay_Close\" /></div><div id=\"NetworKit_Overlay_Title\" /> <div id=\"NetworKit_Overlay_ImageContainer\"> <div id=\"NetworKit_Overlay_Image\" /> </div> <div id=\"NetworKit_Overlay_Toolbar_Bottom\"> <div class=\"button icon-previous\" onclick=\"NetworKit_overlayImageShift(-1)\" /> <div class=\"button icon-next\" onclick=\"NetworKit_overlayImageShift(1)\" /> <a id=\"NetworKit_Overlay_Toolbar_Bottom_Save\"><div class=\"button icon-save\" /></a> </div>';\n",
       "\t\t\t\telement.setAttribute('id', 'NetworKit_Overlay');\n",
       "\t\t\t\tdocument.body.appendChild(element);\n",
       "\t\t\t\tdocument.getElementById('NetworKit_Overlay_Close').onclick = function (e) {\n",
       "\t\t\t\t\tdocument.getElementById('NetworKit_Overlay').style.display = 'none';\n",
       "\t\t\t\t}\n",
       "\t\t\t}\n",
       "\t\t\n",
       "\t\t\t-->\n",
       "\t\t\t</script>\n",
       "\t\t"
      ]
     },
     "metadata": {},
     "output_type": "display_data"
    }
   ],
   "execution_count": 1
  },
  {
   "metadata": {
    "ExecuteTime": {
     "end_time": "2024-04-19T17:25:17.362629Z",
     "start_time": "2024-04-19T17:25:17.357705Z"
    }
   },
   "cell_type": "code",
   "source": [
    "_base = math.e\n",
    "_exp_power = 2\n",
    "_alpha = 0.5\n",
    "_nbr_topk = 1000\n",
    "EPSILON = 1e-7"
   ],
   "outputs": [],
   "execution_count": 2
  },
  {
   "metadata": {
    "ExecuteTime": {
     "end_time": "2024-04-19T17:25:17.523497Z",
     "start_time": "2024-04-19T17:25:17.364967Z"
    }
   },
   "cell_type": "code",
   "source": [
    "def pos_G(g_ig, xyz_l, elcolors=False):\n",
    "    n = g_ig.vcount()\n",
    "    edge_max = g_ig.maxdegree()\n",
    "    degrees = np.array(g_ig.degree())\n",
    "\n",
    "    if elcolors == True:\n",
    "        eldict = {'N': 'blue',\n",
    "                  'O': 'red',\n",
    "                  'C': 'black',\n",
    "                  'H': 'white',\n",
    "                  'S': 'yellow'}\n",
    "        elements = [_[0] for _ in xyz_l.index]\n",
    "        colors = [eldict[_] for _ in elements]\n",
    "\n",
    "    else:\n",
    "        colors = plt.cm.plasma(degrees / edge_max)\n",
    "\n",
    "    coords_ = np.array(xyz_l[['x', 'y', 'z']])\n",
    "    lines = np.append(np.expand_dims(coords_[edge_l[:, 0]], axis=1), np.expand_dims(coords_[edge_l[:, 1]], axis=1),\n",
    "                      axis=1)\n",
    "\n",
    "    with plt.style.context(('ggplot')):\n",
    "        fig = plt.figure(figsize=(10, 7))\n",
    "        # ax = Axes3D(fig)\n",
    "        ax = plt.figure().add_subplot(projection='3d')\n",
    "\n",
    "        lc = Line3DCollection(lines, colors='black', alpha=0.5)\n",
    "        ax.add_collection3d(lc)\n",
    "        ax.scatter(xyz_l['x'], xyz_l['y'], xyz_l['z'], c=colors, s=10 + 10 * degrees, edgecolors='k', alpha=0.7)\n",
    "\n",
    "        ax.view_init(0, 0)\n",
    "        ax.set_axis_off()\n",
    "        ax.set_xlim([min(xyz_l['x']), max(xyz_l['x'])])\n",
    "        ax.set_ylim([min(xyz_l['y']), max(xyz_l['y'])])\n",
    "        ax.set_zlim([min(xyz_l['z']), max(xyz_l['z'])])\n",
    "\n",
    "    plt.show()\n",
    "\n",
    "\n",
    "def get_cif(AA_filename, center=True):\n",
    "    pattern = r'[0-9]'\n",
    "    AA_elements = []\n",
    "    AA_coords = []\n",
    "\n",
    "    AA_filepath = os.path.join(AA_dir, AA_filename)\n",
    "\n",
    "    with open(AA_filepath, \"r\") as f:\n",
    "        for i, line in enumerate(f):\n",
    "            line_ = line.strip().split()\n",
    "            try:\n",
    "                if len(line_) == 21:\n",
    "                    # print(line_)\n",
    "                    ele, x, y, z = line_[1], line_[15], line_[16], line_[17]\n",
    "                    point = (float(x), float(y), float(z))\n",
    "                    AA_elements.append(re.sub(pattern, '', ele))\n",
    "                    AA_coords.append(point)\n",
    "            except:\n",
    "                continue\n",
    "                # print(line.strip().split())\n",
    "    AA_coords = np.array(AA_coords)\n",
    "    if center == True:\n",
    "        AA_coords = AA_coords - AA_coords[np.array(AA_elements) == 'CA']\n",
    "    AA_df = pd.DataFrame(columns=['ATOM', 'x', 'y', 'z'])\n",
    "    AA_df[['x', 'y', 'z']] = AA_coords\n",
    "    AA_df.index = AA_elements\n",
    "    ele1 = np.array([np.array(AA_df.index)[ii][0] for ii in range(len(AA_df.index))])\n",
    "    AA_df_noh = AA_df.loc[ele1 != 'H']\n",
    "\n",
    "    c_alpha = AA_df_noh[AA_df_noh.index == 'CA'][['x', 'y', 'z']].to_numpy()\n",
    "    amine = AA_df_noh[AA_df_noh.index == 'N'][['x', 'y', 'z']].to_numpy()\n",
    "    cooh_mean = np.mean(AA_df_noh[(AA_df_noh.index == 'C') | (AA_df_noh.index == 'O') | (AA_df_noh.index == 'OXT')][\n",
    "                            ['x', 'y', 'z']].to_numpy(), axis=0).reshape(1, -1)\n",
    "    r_mean = np.mean(AA_df_noh[(AA_df_noh.index != 'C') & (AA_df_noh.index != 'CA') & (AA_df_noh.index != 'N') & (\n",
    "                AA_df_noh.index != 'O') & (AA_df_noh.index != 'OXT')][['x', 'y', 'z']].to_numpy(), axis=0).reshape(1,\n",
    "                                                                                                                   -1)\n",
    "\n",
    "    AA_coarse = pd.DataFrame(columns=['ATOM', 'x', 'y', 'z'])\n",
    "    AA_coarse['ATOM'] = [0, 0, 0, 0]\n",
    "    AA_coarse[['x', 'y', 'z']] = np.concatenate([c_alpha, amine, cooh_mean, r_mean], axis=0)\n",
    "    AA_coarse.index = ['CA', 'N', 'COOH', 'R']\n",
    "    AA_coarse.dropna()\n",
    "\n",
    "    return AA_df_noh, AA_coarse.dropna(), ele1"
   ],
   "outputs": [],
   "execution_count": 3
  },
  {
   "metadata": {
    "ExecuteTime": {
     "end_time": "2024-04-19T17:25:17.574587Z",
     "start_time": "2024-04-19T17:25:17.527161Z"
    }
   },
   "cell_type": "code",
   "source": [
    "def GT_chirality(AA_filename):\n",
    "    _, xyz_l, ele1 = get_cif(AA_filename)\n",
    "\n",
    "    thre = 1\n",
    "    al = 7\n",
    "\n",
    "    node_l = nodes(xyz_l)\n",
    "    node_len = len(xyz_l)\n",
    "    edge_l, weights = edges(xyz_l, node_l, al, thre)\n",
    "\n",
    "    g_ig = ig.Graph(n=node_len, edges=edge_l)\n",
    "    g_ig.es['weight'] = np.ones(len(edge_l))\n",
    "    norm_w = weights / np.linalg.norm(weights)\n",
    "    g_w = copy.deepcopy(g_ig)\n",
    "    g_w.es['weight'] = norm_w\n",
    "    Gw_l = g_w.to_networkx()\n",
    "    nx.set_edge_attributes(Gw_l, {(e[0], e[1]): g_w.es['weight'][i] for i, e in enumerate(g_w.get_edgelist())},\n",
    "                           'weight')\n",
    "\n",
    "    orn_w_l = ollivier_ricci_node(Gw_l, 0.5)\n",
    "    ore_w_l = ollivier_ricci_edge(Gw_l, 0.5)\n",
    "\n",
    "\n",
    "    path_l = []\n",
    "\n",
    "    for ii in range(len(edge_l)):\n",
    "        _, _, path = node_connect_path(g_ig, edge_l[ii])\n",
    "        path_l.append(path)\n",
    "\n",
    "    path_l_w = copy.deepcopy(path_l)\n",
    "\n",
    "    path_w_l = path_pd_all_w(Gw_l, g_w, path_l_w)\n",
    "    print('path l done')\n",
    "\n",
    "    path_l_w_sum_mean = path_sum_mean(edge_l, path_w_l)\n",
    "\n",
    "    points0 = xyz_l[xyz_l.index == 'CA'][['x', 'y', 'z']].to_numpy()\n",
    "    points1 = xyz_l[xyz_l.index == 'COOH'][['x', 'y', 'z']].to_numpy()\n",
    "    points2 = xyz_l[xyz_l.index == 'N'][['x', 'y', 'z']].to_numpy()\n",
    "\n",
    "    v1 = points1 - points0\n",
    "    v2 = points2 - points0\n",
    "\n",
    "    cp = np.squeeze(np.cross(v1, v2))\n",
    "\n",
    "    a, b, c = cp\n",
    "    d = np.dot(cp, points0[0])\n",
    "\n",
    "    scale = np.max(np.abs([a, b, c, d]))\n",
    "\n",
    "    a = a / scale\n",
    "    b = b / scale\n",
    "    c = c / scale\n",
    "    d = d / scale\n",
    "\n",
    "    xyz, G, edge_path, orn, ore, a, b, c, d = xyz_l, Gw_l, path_l_w_sum_mean, orn_w_l, ore_w_l, a, b, c, d\n",
    "    edge_vec, node_vec, center_node, center, pos = edge_node_vec_torsion(xyz, G, edge_path)\n",
    "    node_pair = mirror_check_chiral(xyz, G, orn, ore, a, b, c, d)\n",
    "    \n",
    "    plane_sign = pd.DataFrame(np.zeros((len(node_pair), 4)), columns=['n0', 'n0_sign',\n",
    "                                                                      'n1', 'n1_sign', ])\n",
    "\n",
    "    plane_sign['n0'] = node_pair[:, 0]\n",
    "    plane_sign['n1'] = node_pair[:, 1]\n",
    "\n",
    "    for ii in range(len(plane_sign)):\n",
    "        n0 = plane_sign['n0'].iloc[ii].astype('int32')\n",
    "\n",
    "        n0_x = node_vec['direction'].iloc[n0][0]\n",
    "        n0_y = node_vec['direction'].iloc[n0][1]\n",
    "        n0_z = node_vec['direction'].iloc[n0][2]\n",
    "\n",
    "        value = a * n0_x + b * n0_y + c * n0_z - d\n",
    "        if np.isclose(value, 0, atol=1e-03):\n",
    "            value = 0\n",
    "        plane_sign['n0_sign'].iloc[ii] = np.sign(value)\n",
    "\n",
    "    for ii in range(len(plane_sign)):\n",
    "        if np.isnan(plane_sign['n1'].iloc[ii]) == False:\n",
    "            n1 = plane_sign['n1'].iloc[ii].astype('int32')\n",
    "            #         print(n1)\n",
    "\n",
    "            n1_x = node_vec['direction'].iloc[n1][0]\n",
    "            n1_y = node_vec['direction'].iloc[n1][1]\n",
    "            n1_z = node_vec['direction'].iloc[n1][2]\n",
    "\n",
    "            value = a * n0_x + b * n0_y + c * n0_z - d\n",
    "            if np.isclose(value, 0, atol=1e-03):\n",
    "                value = 0\n",
    "        plane_sign['n1_sign'].iloc[ii] = np.sign(value)\n",
    "\n",
    "    plus_diff = []\n",
    "    plus_val_diff = []\n",
    "\n",
    "    p_ind = np.where(plane_sign['n0_sign'] > 0)[0]\n",
    "\n",
    "    for ii in range(len(p_ind)):\n",
    "        if np.isnan(plane_sign['n1'].iloc[p_ind[ii]]) == True:\n",
    "\n",
    "            n0 = node_pair[p_ind[ii]][0].astype('int32')\n",
    "            #         print(n0)\n",
    "            m_point = mirror_point(a, b, c, -d, node_vec['direction'].iloc[n0][0],\n",
    "                                   node_vec['direction'].iloc[n0][1],\n",
    "                                   node_vec['direction'].iloc[n0][2])\n",
    "            m_point_arr = np.asarray(m_point)\n",
    "            diff = euclidean(m_point_arr, [0, 0, 0])\n",
    "            plus_diff.append(diff)\n",
    "\n",
    "            val = node_vec['op_mean'].iloc[n0]\n",
    "            plus_val_diff.append(np.abs(val))\n",
    "\n",
    "        else:\n",
    "            n0 = node_pair[p_ind[ii]][0].astype('int32')\n",
    "            n1 = node_pair[p_ind[ii]][1].astype('int32')\n",
    "            m_point = mirror_point(a, b, c, -d, node_vec['direction'].iloc[n0][0],\n",
    "                                   node_vec['direction'].iloc[n0][1],\n",
    "                                   node_vec['direction'].iloc[n0][2])\n",
    "            m_point_arr = np.asarray(m_point)\n",
    "            diff = euclidean(node_vec['direction'].iloc[n1], m_point_arr)\n",
    "            plus_diff.append(diff)\n",
    "\n",
    "            val0 = node_vec['op_mean'].iloc[n0]\n",
    "            val1 = node_vec['op_mean'].iloc[n1]\n",
    "\n",
    "            plus_val_diff.append(np.abs(val0 - val1))\n",
    "\n",
    "    minus_diff = []\n",
    "    minus_val_diff = []\n",
    "\n",
    "    m_ind = np.where(plane_sign['n0_sign'] < 0)[0]\n",
    "\n",
    "    for ii in range(len(m_ind)):\n",
    "        if np.isnan(plane_sign['n1'].iloc[m_ind[ii]]) == True:\n",
    "\n",
    "            n0 = node_pair[m_ind[ii]][0].astype('int32')\n",
    "            #         print(n0)\n",
    "            m_point = mirror_point(a, b, c, -d, node_vec['direction'].iloc[n0][0],\n",
    "                                   node_vec['direction'].iloc[n0][1],\n",
    "                                   node_vec['direction'].iloc[n0][2])\n",
    "            m_point_arr = np.asarray(m_point)\n",
    "            diff = euclidean(m_point_arr, [0, 0, 0])\n",
    "            minus_diff.append(diff)\n",
    "\n",
    "            val = node_vec['op_mean'].iloc[n0]\n",
    "            minus_val_diff.append(np.abs(val))\n",
    "\n",
    "        else:\n",
    "            n0 = node_pair[m_ind[ii]][0].astype('int32')\n",
    "            n1 = node_pair[m_ind[ii]][1].astype('int32')\n",
    "            m_point = mirror_point(a, b, c, -d, node_vec['direction'].iloc[n0][0],\n",
    "                                   node_vec['direction'].iloc[n0][1],\n",
    "                                   node_vec['direction'].iloc[n0][2])\n",
    "            m_point_arr = np.asarray(m_point)\n",
    "            diff = euclidean(node_vec['direction'].iloc[n1], m_point_arr)\n",
    "            minus_diff.append(diff)\n",
    "\n",
    "            val0 = node_vec['op_mean'].iloc[n0]\n",
    "            val1 = node_vec['op_mean'].iloc[n1]\n",
    "\n",
    "            minus_val_diff.append(np.abs(val0 - val1))\n",
    "\n",
    "    if len(plus_diff) == 0:\n",
    "        plus = 0\n",
    "    else:\n",
    "        plus = np.sum(np.asarray(plus_diff) * np.asarray(plus_val_diff)) / len(plus_diff)\n",
    "    if len(minus_diff) == 0:\n",
    "        minus = 0\n",
    "    else:\n",
    "        minus = np.sum(np.asarray(minus_diff) * np.asarray(minus_val_diff) / len(minus_diff))\n",
    "\n",
    "    chirality = plus - minus\n",
    "\n",
    "    return chirality"
   ],
   "outputs": [],
   "execution_count": 4
  },
  {
   "metadata": {
    "ExecuteTime": {
     "end_time": "2024-04-19T17:25:34.521867Z",
     "start_time": "2024-04-19T17:25:17.576584Z"
    }
   },
   "cell_type": "code",
   "source": [
    "AA_dir = os.path.join(os.getcwd(), 'AA_CIF')\n",
    "AA_name = []\n",
    "chirality = []\n",
    "for AA_filename in os.listdir(AA_dir):\n",
    "    AA_name.append((AA_filename[0:3]))\n",
    "    chirality.append(GT_chirality(AA_filename))"
   ],
   "outputs": [
    {
     "name": "stdout",
     "output_type": "stream",
     "text": [
      "path l done\n",
      "path l done\n",
      "path l done\n",
      "path l done\n",
      "path l done\n",
      "path l done\n",
      "path l done\n",
      "path l done\n",
      "path l done\n",
      "path l done\n",
      "path l done\n",
      "path l done\n",
      "path l done\n",
      "path l done\n",
      "path l done\n",
      "path l done\n",
      "path l done\n",
      "path l done\n",
      "path l done\n",
      "path l done\n"
     ]
    }
   ],
   "execution_count": 5
  },
  {
   "cell_type": "code",
   "metadata": {
    "ExecuteTime": {
     "end_time": "2024-04-19T17:25:34.537893Z",
     "start_time": "2024-04-19T17:25:34.526200Z"
    }
   },
   "source": [
    "GTC = np.append(np.array(AA_name).reshape(-1, 1), np.array(chirality).reshape(-1, 1), axis=1)\n",
    "GTC"
   ],
   "outputs": [
    {
     "data": {
      "text/plain": [
       "array([['TRP', '-1.3583691144898724'],\n",
       "       ['ASP', '-1.14880236045762'],\n",
       "       ['THR', '-0.9272450980663095'],\n",
       "       ['GLN', '-1.2061504571221615'],\n",
       "       ['LYS', '-1.2869899285674307'],\n",
       "       ['HIS', '-0.9024484940161404'],\n",
       "       ['PHE', '-1.346221189115667'],\n",
       "       ['MET', '-1.2515395640586038'],\n",
       "       ['GLY', '0.0'],\n",
       "       ['SER', '-0.9684610942810249'],\n",
       "       ['VAL', '-0.9283009650899866'],\n",
       "       ['CYS', '-1.0206192428496537'],\n",
       "       ['GLU', '-1.2025968669861897'],\n",
       "       ['PRO', '-1.0522268604364742'],\n",
       "       ['TYR', '-1.3999541580941142'],\n",
       "       ['ALA', '-0.7769359706024688'],\n",
       "       ['ILE', '-1.01756052634917'],\n",
       "       ['ARG', '-1.1416984907005876'],\n",
       "       ['ASN', '-1.1497841811631433'],\n",
       "       ['LEU', '-1.139581513213952']], dtype='<U32')"
      ]
     },
     "execution_count": 6,
     "metadata": {},
     "output_type": "execute_result"
    }
   ],
   "execution_count": 6
  },
  {
   "metadata": {
    "ExecuteTime": {
     "end_time": "2024-04-19T17:25:34.575570Z",
     "start_time": "2024-04-19T17:25:34.540116Z"
    }
   },
   "cell_type": "code",
   "source": "AA_filename = 'CYS.cif'",
   "outputs": [],
   "execution_count": 7
  },
  {
   "metadata": {
    "ExecuteTime": {
     "end_time": "2024-04-19T17:25:34.930406Z",
     "start_time": "2024-04-19T17:25:34.577828Z"
    }
   },
   "cell_type": "code",
   "source": [
    "_, xyz_l, ele1 = get_cif(AA_filename)\n",
    "\n",
    "thre = 1\n",
    "al = 7\n",
    "\n",
    "node_l = nodes(xyz_l)\n",
    "node_len = len(xyz_l)\n",
    "edge_l, weights = edges(xyz_l, node_l, al, thre)\n",
    "\n",
    "g_ig = ig.Graph(n=node_len, edges=edge_l)\n",
    "g_ig.es['weight'] = np.ones(len(edge_l))\n",
    "norm_w = weights / np.linalg.norm(weights)\n",
    "g_w = copy.deepcopy(g_ig)\n",
    "g_w.es['weight'] = norm_w\n",
    "Gw_l = g_w.to_networkx()\n",
    "nx.set_edge_attributes(Gw_l, {(e[0], e[1]): g_w.es['weight'][i] for i, e in enumerate(g_w.get_edgelist())}, 'weight')\n",
    "\n",
    "orn_w_l = ollivier_ricci_node(Gw_l, 0.5)\n",
    "ore_w_l = ollivier_ricci_edge(Gw_l, 0.5)"
   ],
   "outputs": [],
   "execution_count": 8
  },
  {
   "cell_type": "code",
   "source": [
    "plt.close()\n",
    "\n",
    "n = g_ig.vcount()\n",
    "edge_max = g_ig.maxdegree()\n",
    "degrees = np.array(g_ig.degree())\n",
    "\n",
    "colors_ = ['black', 'blue', 'firebrick', 'darkgoldenrod']\n",
    "coords_ = np.array(xyz_l[['x','y','z']])\n",
    "lines = np.append(np.expand_dims(coords_[edge_l[:,0]], axis=1), np.expand_dims(coords_[edge_l[:,1]], axis=1), axis=1)\n",
    "\n",
    "fig = plt.figure(figsize=(10,7))\n",
    "ax = plt.figure().add_subplot(projection='3d')\n",
    "\n",
    "lc = Line3DCollection(lines, linewidths=5, colors = 'black', alpha=0.5)\n",
    "ax.add_collection3d(lc)\n",
    "ax.scatter(xyz_l['x'], xyz_l['y'], xyz_l['z'], c=colors_, s=100+100*degrees, edgecolors='none', alpha=0.8)\n",
    "\n",
    "ax.view_init(40,-16)\n",
    "ax.set_axis_off()\n",
    "ax.set_xlim([min(xyz_l['x']),max(xyz_l['x'])])\n",
    "ax.set_ylim([min(xyz_l['y']),max(xyz_l['y'])])\n",
    "ax.set_zlim([min(xyz_l['z']),max(xyz_l['z'])])\n",
    "    \n",
    "plt.axis('scaled')\n",
    "plt.savefig('CYS_graph.png')\n",
    "plt.show()"
   ],
   "metadata": {
    "collapsed": false,
    "ExecuteTime": {
     "end_time": "2024-04-19T17:25:35.101864Z",
     "start_time": "2024-04-19T17:25:34.933362Z"
    }
   },
   "outputs": [
    {
     "data": {
      "text/plain": [
       "<Figure size 1000x700 with 0 Axes>"
      ]
     },
     "metadata": {},
     "output_type": "display_data"
    },
    {
     "data": {
      "text/plain": [
       "<Figure size 640x480 with 1 Axes>"
      ],
      "image/png": "[encoded data removed]"
     },
     "metadata": {},
     "output_type": "display_data"
    }
   ],
   "execution_count": 9
  },
  {
   "cell_type": "code",
   "source": [
    "G = Gw_l\n",
    "ORC, theta, phi = orn_w_l, 40,-16\n",
    "\n",
    "orc = np.asarray(ORC)\n",
    "\n",
    "norm = colors.Normalize(vmin=0, vmax=np.max(abs(orc)), clip=True)\n",
    "mapper = cm.ScalarMappable(norm=norm, cmap=cm.Blues)\n",
    "\n",
    "co = mapper.to_rgba(orc)  \n",
    "\n",
    "with plt.style.context(('seaborn-v0_8-white')):\n",
    "    ax = plt.figure(figsize=(10,7)).add_subplot(projection='3d')\n",
    "    \n",
    "    lines = np.append(np.expand_dims(np.array(xyz_l[['x', 'y', 'z']])[np.array(G.edges)[:,0]], axis=1),\n",
    "                      np.expand_dims(np.array(xyz_l[['x', 'y', 'z']])[np.array(G.edges)[:,1]], axis=1), axis=1)\n",
    "    \n",
    "    lc = Line3DCollection(lines, color='gray', alpha=0.5)\n",
    "    ax.add_collection3d(lc)\n",
    "    \n",
    "    ax.scatter(xyz_l['x'], xyz_l['y'], xyz_l['z'], c=co, s=100, edgecolors='k', linewidth=1, alpha=0.7)\n",
    "\n",
    "    sm = plt.cm.ScalarMappable(cmap=cm.Blues)#, vmin = np.min(orc_sc), vmax = np.max(orc_sc))#, norm=norm)\n",
    "    sm.set_array([])\n",
    "    sm.set_clim(vmin=np.min(0), vmax=np.max(abs(orc)))\n",
    "    ax.figure.colorbar(sm, ax=ax, orientation = 'horizontal')\n",
    "\n",
    "    ax.set_axis_off()\n",
    "    ax.view_init(theta, phi)\n",
    "    plt.axis('scaled')\n",
    "    plt.savefig('cys_torsion.png')\n",
    "    plt.show()"
   ],
   "metadata": {
    "collapsed": false,
    "ExecuteTime": {
     "end_time": "2024-04-19T17:25:35.473034Z",
     "start_time": "2024-04-19T17:25:35.112104Z"
    }
   },
   "outputs": [
    {
     "data": {
      "text/plain": [
       "<Figure size 1000x700 with 2 Axes>"
      ],
      "image/png": "[encoded data removed]"
     },
     "metadata": {},
     "output_type": "display_data"
    }
   ],
   "execution_count": 11
  }
 ],
 "metadata": {
  "kernelspec": {
   "display_name": "Python 3 (ipykernel)",
   "language": "python",
   "name": "python3"
  },
  "language_info": {
   "codemirror_mode": {
    "name": "ipython",
    "version": 3
   },
   "file_extension": ".py",
   "mimetype": "text/x-python",
   "name": "python",
   "nbconvert_exporter": "python",
   "pygments_lexer": "ipython3",
   "version": "3.9.12"
  }
 },
 "nbformat": 4,
 "nbformat_minor": 4
}
